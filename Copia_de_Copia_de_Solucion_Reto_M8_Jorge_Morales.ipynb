{
  "nbformat": 4,
  "nbformat_minor": 0,
  "metadata": {
    "colab": {
      "provenance": [],
      "authorship_tag": "ABX9TyNItuB2Qy4IZ84CkbkqmVxD",
      "include_colab_link": true
    },
    "kernelspec": {
      "name": "python3",
      "display_name": "Python 3"
    },
    "language_info": {
      "name": "python"
    }
  },
  "cells": [
    {
      "cell_type": "markdown",
      "metadata": {
        "id": "view-in-github",
        "colab_type": "text"
      },
      "source": [
        "<a href=\"https://colab.research.google.com/github/Georgemoralex/Data-Science-and-AI/blob/main/Copia_de_Copia_de_Solucion_Reto_M8_Jorge_Morales.ipynb\" target=\"_parent\"><img src=\"https://colab.research.google.com/assets/colab-badge.svg\" alt=\"Open In Colab\"/></a>"
      ]
    },
    {
      "cell_type": "markdown",
      "source": [
        "# MÓDULO 7 - APRENDIZAJE SUPERVISADO\n",
        "\n",
        "---------\n",
        "## Reto | Deserción laboral <p> Elaborado por Jorge Morales\n"
      ],
      "metadata": {
        "id": "kXIFOjRwkUG2"
      }
    },
    {
      "cell_type": "markdown",
      "source": [
        "1. Realizar un análisis descriptivo que incluya la cantidad y tipo de variables que se tienen en el conjunto de datos original.\n",
        "\n",
        "Incluye las librerías que consideres adecuadas y carga los datos del archivo en una variable llamada \"data\".\n",
        "\n",
        "Obtener la información de dicha base de datos que incluya:\n",
        "- Número de registros.\n",
        "- Total de variables.\n",
        "- Tipo de cada variable.\n",
        "- Cantidad de datos perdidos de cada variable.\n",
        "\n"
      ],
      "metadata": {
        "id": "7bVJ8AaUl5B6"
      }
    },
    {
      "cell_type": "code",
      "source": [
        "import pandas as pd\n",
        "import numpy as np\n",
        "\n",
        "data = pd.read_csv('/content/Employee_Attrition_datos_reto_binario.csv')\n",
        "\n",
        "print(data.head())\n",
        "print(\"Información general de la base de datos:\")\n",
        "print(data.info())\n",
        "print(\"Descripción estadística de la base de datos\")\n",
        "print(data.describe().T)\n",
        "\n",
        "print(\"Valores nulos por atributo:\")\n",
        "print(data.isnull().sum().T)"
      ],
      "metadata": {
        "id": "r_whW7LtmqLq",
        "colab": {
          "base_uri": "https://localhost:8080/"
        },
        "outputId": "cf24ee7f-4282-4bc3-af84-53fe35c3ef3f"
      },
      "execution_count": 6,
      "outputs": [
        {
          "output_type": "stream",
          "name": "stdout",
          "text": [
            "   Age Attrition     BusinessTravel  DailyRate              Department  \\\n",
            "0   41       Yes      Travel_Rarely       1102                   Sales   \n",
            "1   49        No  Travel_Frequently        279  Research & Development   \n",
            "2   37       Yes      Travel_Rarely       1373  Research & Development   \n",
            "3   33        No  Travel_Frequently       1392  Research & Development   \n",
            "4   27        No      Travel_Rarely        591  Research & Development   \n",
            "\n",
            "   DistanceFromHome  Education EducationField  EmployeeCount  EmployeeNumber  \\\n",
            "0                 1          2  Life Sciences              1               1   \n",
            "1                 8          1  Life Sciences              1               2   \n",
            "2                 2          2          Other              1               4   \n",
            "3                 3          4  Life Sciences              1               5   \n",
            "4                 2          1        Medical              1               7   \n",
            "\n",
            "   ...  RelationshipSatisfaction StandardHours  StockOptionLevel  \\\n",
            "0  ...                         1            80                 0   \n",
            "1  ...                         4            80                 1   \n",
            "2  ...                         2            80                 0   \n",
            "3  ...                         3            80                 0   \n",
            "4  ...                         4            80                 1   \n",
            "\n",
            "   TotalWorkingYears  TrainingTimesLastYear WorkLifeBalance  YearsAtCompany  \\\n",
            "0                  8                      0               1               6   \n",
            "1                 10                      3               3              10   \n",
            "2                  7                      3               3               0   \n",
            "3                  8                      3               3               8   \n",
            "4                  6                      3               3               2   \n",
            "\n",
            "  YearsInCurrentRole  YearsSinceLastPromotion  YearsWithCurrManager  \n",
            "0                  4                        0                     5  \n",
            "1                  7                        1                     7  \n",
            "2                  0                        0                     0  \n",
            "3                  7                        3                     0  \n",
            "4                  2                        2                     2  \n",
            "\n",
            "[5 rows x 35 columns]\n",
            "Información general de la base de datos:\n",
            "<class 'pandas.core.frame.DataFrame'>\n",
            "RangeIndex: 1470 entries, 0 to 1469\n",
            "Data columns (total 35 columns):\n",
            " #   Column                    Non-Null Count  Dtype \n",
            "---  ------                    --------------  ----- \n",
            " 0   Age                       1470 non-null   int64 \n",
            " 1   Attrition                 1470 non-null   object\n",
            " 2   BusinessTravel            1470 non-null   object\n",
            " 3   DailyRate                 1470 non-null   int64 \n",
            " 4   Department                1470 non-null   object\n",
            " 5   DistanceFromHome          1470 non-null   int64 \n",
            " 6   Education                 1470 non-null   int64 \n",
            " 7   EducationField            1470 non-null   object\n",
            " 8   EmployeeCount             1470 non-null   int64 \n",
            " 9   EmployeeNumber            1470 non-null   int64 \n",
            " 10  EnvironmentSatisfaction   1470 non-null   int64 \n",
            " 11  Gender                    1470 non-null   object\n",
            " 12  HourlyRate                1470 non-null   int64 \n",
            " 13  JobInvolvement            1470 non-null   int64 \n",
            " 14  JobLevel                  1470 non-null   int64 \n",
            " 15  JobRole                   1470 non-null   object\n",
            " 16  JobSatisfaction           1470 non-null   int64 \n",
            " 17  MaritalStatus             1470 non-null   object\n",
            " 18  MonthlyIncome             1470 non-null   int64 \n",
            " 19  MonthlyRate               1470 non-null   int64 \n",
            " 20  NumCompaniesWorked        1470 non-null   int64 \n",
            " 21  Over18                    1470 non-null   object\n",
            " 22  OverTime                  1470 non-null   object\n",
            " 23  PercentSalaryHike         1470 non-null   int64 \n",
            " 24  PerformanceRating         1470 non-null   int64 \n",
            " 25  RelationshipSatisfaction  1470 non-null   int64 \n",
            " 26  StandardHours             1470 non-null   int64 \n",
            " 27  StockOptionLevel          1470 non-null   int64 \n",
            " 28  TotalWorkingYears         1470 non-null   int64 \n",
            " 29  TrainingTimesLastYear     1470 non-null   int64 \n",
            " 30  WorkLifeBalance           1470 non-null   int64 \n",
            " 31  YearsAtCompany            1470 non-null   int64 \n",
            " 32  YearsInCurrentRole        1470 non-null   int64 \n",
            " 33  YearsSinceLastPromotion   1470 non-null   int64 \n",
            " 34  YearsWithCurrManager      1470 non-null   int64 \n",
            "dtypes: int64(26), object(9)\n",
            "memory usage: 402.1+ KB\n",
            "None\n",
            "Descripción estadística de la base de datos\n",
            "                           count          mean          std     min      25%  \\\n",
            "Age                       1470.0     36.923810     9.135373    18.0    30.00   \n",
            "DailyRate                 1470.0    802.485714   403.509100   102.0   465.00   \n",
            "DistanceFromHome          1470.0      9.192517     8.106864     1.0     2.00   \n",
            "Education                 1470.0      2.912925     1.024165     1.0     2.00   \n",
            "EmployeeCount             1470.0      1.000000     0.000000     1.0     1.00   \n",
            "EmployeeNumber            1470.0   1024.865306   602.024335     1.0   491.25   \n",
            "EnvironmentSatisfaction   1470.0      2.721769     1.093082     1.0     2.00   \n",
            "HourlyRate                1470.0     65.891156    20.329428    30.0    48.00   \n",
            "JobInvolvement            1470.0      2.729932     0.711561     1.0     2.00   \n",
            "JobLevel                  1470.0      2.063946     1.106940     1.0     1.00   \n",
            "JobSatisfaction           1470.0      2.728571     1.102846     1.0     2.00   \n",
            "MonthlyIncome             1470.0   6502.931293  4707.956783  1009.0  2911.00   \n",
            "MonthlyRate               1470.0  14313.103401  7117.786044  2094.0  8047.00   \n",
            "NumCompaniesWorked        1470.0      2.693197     2.498009     0.0     1.00   \n",
            "PercentSalaryHike         1470.0     15.209524     3.659938    11.0    12.00   \n",
            "PerformanceRating         1470.0      3.153741     0.360824     3.0     3.00   \n",
            "RelationshipSatisfaction  1470.0      2.712245     1.081209     1.0     2.00   \n",
            "StandardHours             1470.0     80.000000     0.000000    80.0    80.00   \n",
            "StockOptionLevel          1470.0      0.793878     0.852077     0.0     0.00   \n",
            "TotalWorkingYears         1470.0     11.279592     7.780782     0.0     6.00   \n",
            "TrainingTimesLastYear     1470.0      2.799320     1.289271     0.0     2.00   \n",
            "WorkLifeBalance           1470.0      2.761224     0.706476     1.0     2.00   \n",
            "YearsAtCompany            1470.0      7.008163     6.126525     0.0     3.00   \n",
            "YearsInCurrentRole        1470.0      4.229252     3.623137     0.0     2.00   \n",
            "YearsSinceLastPromotion   1470.0      2.187755     3.222430     0.0     0.00   \n",
            "YearsWithCurrManager      1470.0      4.123129     3.568136     0.0     2.00   \n",
            "\n",
            "                              50%       75%      max  \n",
            "Age                          36.0     43.00     60.0  \n",
            "DailyRate                   802.0   1157.00   1499.0  \n",
            "DistanceFromHome              7.0     14.00     29.0  \n",
            "Education                     3.0      4.00      5.0  \n",
            "EmployeeCount                 1.0      1.00      1.0  \n",
            "EmployeeNumber             1020.5   1555.75   2068.0  \n",
            "EnvironmentSatisfaction       3.0      4.00      4.0  \n",
            "HourlyRate                   66.0     83.75    100.0  \n",
            "JobInvolvement                3.0      3.00      4.0  \n",
            "JobLevel                      2.0      3.00      5.0  \n",
            "JobSatisfaction               3.0      4.00      4.0  \n",
            "MonthlyIncome              4919.0   8379.00  19999.0  \n",
            "MonthlyRate               14235.5  20461.50  26999.0  \n",
            "NumCompaniesWorked            2.0      4.00      9.0  \n",
            "PercentSalaryHike            14.0     18.00     25.0  \n",
            "PerformanceRating             3.0      3.00      4.0  \n",
            "RelationshipSatisfaction      3.0      4.00      4.0  \n",
            "StandardHours                80.0     80.00     80.0  \n",
            "StockOptionLevel              1.0      1.00      3.0  \n",
            "TotalWorkingYears            10.0     15.00     40.0  \n",
            "TrainingTimesLastYear         3.0      3.00      6.0  \n",
            "WorkLifeBalance               3.0      3.00      4.0  \n",
            "YearsAtCompany                5.0      9.00     40.0  \n",
            "YearsInCurrentRole            3.0      7.00     18.0  \n",
            "YearsSinceLastPromotion       1.0      3.00     15.0  \n",
            "YearsWithCurrManager          3.0      7.00     17.0  \n",
            "Valores nulos por atributo:\n",
            "Age                         0\n",
            "Attrition                   0\n",
            "BusinessTravel              0\n",
            "DailyRate                   0\n",
            "Department                  0\n",
            "DistanceFromHome            0\n",
            "Education                   0\n",
            "EducationField              0\n",
            "EmployeeCount               0\n",
            "EmployeeNumber              0\n",
            "EnvironmentSatisfaction     0\n",
            "Gender                      0\n",
            "HourlyRate                  0\n",
            "JobInvolvement              0\n",
            "JobLevel                    0\n",
            "JobRole                     0\n",
            "JobSatisfaction             0\n",
            "MaritalStatus               0\n",
            "MonthlyIncome               0\n",
            "MonthlyRate                 0\n",
            "NumCompaniesWorked          0\n",
            "Over18                      0\n",
            "OverTime                    0\n",
            "PercentSalaryHike           0\n",
            "PerformanceRating           0\n",
            "RelationshipSatisfaction    0\n",
            "StandardHours               0\n",
            "StockOptionLevel            0\n",
            "TotalWorkingYears           0\n",
            "TrainingTimesLastYear       0\n",
            "WorkLifeBalance             0\n",
            "YearsAtCompany              0\n",
            "YearsInCurrentRole          0\n",
            "YearsSinceLastPromotion     0\n",
            "YearsWithCurrManager        0\n",
            "dtype: int64\n"
          ]
        }
      ]
    },
    {
      "cell_type": "markdown",
      "source": [
        "Podemos observar 1470 registros y 35 variables en nuestro dataframe, no faltan valores en la base de datos, tenemos los datos estadísticos y el tipo de dato de cada atributo.\n"
      ],
      "metadata": {
        "id": "65Xr6_wNteB1"
      }
    },
    {
      "cell_type": "markdown",
      "source": [
        "\n",
        "2. Incluir información sobre las variables que tienen datos y la decisión que tomarás sobre qué hacer con ellas.\n",
        "\n",
        "Borra las variables que consideres no deben estar en el modelo. Justifica cada decisión de las variables eliminadas.\n",
        "\n",
        "Transforma las variables categóricas de manera que puedan ser tratadas numéricamente.\n",
        "\n",
        "Considera la variable Attrition como la variable de salida y el resto de las variables como las variables de entrada.\n",
        "\n",
        "----------\n",
        "\n",
        "**a) Se eliminarán las siguientes variables pues no representan ni aportan ningún valor para el estudio - EmployeeNumber & EmployeeCount**\n",
        "\n",
        "**b) También se identificarán las variables categóricas y se convertirán a numéricas a través del método Label Encoding sin tener que aumentar el número de columnas para el estudio**\n",
        "\n",
        "**c) Se definirá a la variable attrition como variable de salida \"Y\" y se normalizarán los datos para ser utilizados en el modelo**"
      ],
      "metadata": {
        "id": "1YrJ-tfHmiUV"
      }
    },
    {
      "cell_type": "code",
      "source": [
        "from sklearn.preprocessing import LabelEncoder, StandardScaler\n",
        "\n",
        "categorical_cols = data.select_dtypes(include=['object']).columns.tolist()\n",
        "print(\"Variables categóricas:\", categorical_cols)\n",
        "\n",
        "columns_to_drop = ['EmployeeNumber', 'EmployeeCount']\n",
        "print(f\"Eliminando columnas: {columns_to_drop}\")\n",
        "data = data.drop(columns=columns_to_drop)\n",
        "\n",
        "label_encoders = {}\n",
        "for col in categorical_cols:\n",
        "    if col in data.columns:\n",
        "        le = LabelEncoder()\n",
        "        data[col] = le.fit_transform(data[col])\n",
        "        label_encoders[col] = le\n",
        "\n",
        "X = data.drop(columns=['Attrition'])\n",
        "y = data['Attrition']\n",
        "\n",
        "scaler = StandardScaler()\n",
        "X_scaled = scaler.fit_transform(X)\n",
        "\n",
        "print(\"Información del nuevo dataset estandarizado y con todas las variables numéricas\")\n",
        "print(data.info())\n"
      ],
      "metadata": {
        "id": "5R90tTAbmq8g",
        "colab": {
          "base_uri": "https://localhost:8080/"
        },
        "outputId": "01296047-d7cb-4645-dcf1-60fdb93354c2"
      },
      "execution_count": 7,
      "outputs": [
        {
          "output_type": "stream",
          "name": "stdout",
          "text": [
            "Variables categóricas: ['Attrition', 'BusinessTravel', 'Department', 'EducationField', 'Gender', 'JobRole', 'MaritalStatus', 'Over18', 'OverTime']\n",
            "Eliminando columnas: ['EmployeeNumber', 'EmployeeCount']\n",
            "Información del nuevo dataset estandarizado y con todas las variables numéricas\n",
            "<class 'pandas.core.frame.DataFrame'>\n",
            "RangeIndex: 1470 entries, 0 to 1469\n",
            "Data columns (total 33 columns):\n",
            " #   Column                    Non-Null Count  Dtype\n",
            "---  ------                    --------------  -----\n",
            " 0   Age                       1470 non-null   int64\n",
            " 1   Attrition                 1470 non-null   int64\n",
            " 2   BusinessTravel            1470 non-null   int64\n",
            " 3   DailyRate                 1470 non-null   int64\n",
            " 4   Department                1470 non-null   int64\n",
            " 5   DistanceFromHome          1470 non-null   int64\n",
            " 6   Education                 1470 non-null   int64\n",
            " 7   EducationField            1470 non-null   int64\n",
            " 8   EnvironmentSatisfaction   1470 non-null   int64\n",
            " 9   Gender                    1470 non-null   int64\n",
            " 10  HourlyRate                1470 non-null   int64\n",
            " 11  JobInvolvement            1470 non-null   int64\n",
            " 12  JobLevel                  1470 non-null   int64\n",
            " 13  JobRole                   1470 non-null   int64\n",
            " 14  JobSatisfaction           1470 non-null   int64\n",
            " 15  MaritalStatus             1470 non-null   int64\n",
            " 16  MonthlyIncome             1470 non-null   int64\n",
            " 17  MonthlyRate               1470 non-null   int64\n",
            " 18  NumCompaniesWorked        1470 non-null   int64\n",
            " 19  Over18                    1470 non-null   int64\n",
            " 20  OverTime                  1470 non-null   int64\n",
            " 21  PercentSalaryHike         1470 non-null   int64\n",
            " 22  PerformanceRating         1470 non-null   int64\n",
            " 23  RelationshipSatisfaction  1470 non-null   int64\n",
            " 24  StandardHours             1470 non-null   int64\n",
            " 25  StockOptionLevel          1470 non-null   int64\n",
            " 26  TotalWorkingYears         1470 non-null   int64\n",
            " 27  TrainingTimesLastYear     1470 non-null   int64\n",
            " 28  WorkLifeBalance           1470 non-null   int64\n",
            " 29  YearsAtCompany            1470 non-null   int64\n",
            " 30  YearsInCurrentRole        1470 non-null   int64\n",
            " 31  YearsSinceLastPromotion   1470 non-null   int64\n",
            " 32  YearsWithCurrManager      1470 non-null   int64\n",
            "dtypes: int64(33)\n",
            "memory usage: 379.1 KB\n",
            "None\n"
          ]
        }
      ]
    },
    {
      "cell_type": "markdown",
      "source": [
        "\n",
        "3. Realizar la partición de tus datos en los conjuntos de entrenamiento, validación y prueba correspondientes.\n",
        "\n",
        "Particiona los datos en los conjuntos de entrenamiento, validación y prueba en 60%, 20% y 20%, respectivamente.\n",
        "\n",
        "\n"
      ],
      "metadata": {
        "id": "Kk-opoSpmkRu"
      }
    },
    {
      "cell_type": "code",
      "source": [
        "from sklearn.model_selection import train_test_split\n",
        "\n",
        "X_train, X_temp, y_train, y_temp = train_test_split(X_scaled, y, test_size=0.4, random_state=42)\n",
        "X_val, X_test, y_val, y_test = train_test_split(X_temp, y_temp, test_size=0.5, random_state=42)"
      ],
      "metadata": {
        "id": "biFoyMTwmrfv"
      },
      "execution_count": 8,
      "outputs": []
    },
    {
      "cell_type": "markdown",
      "source": [
        "4. Construir, configurar y evaluar 4 modelos supervisados vistos en el curso.\n",
        "\n",
        "Para cada uno de los 4 métodos clásicos de aprendizaje supervisado vistos en la sesión 1:\n",
        "(1) Bosques Aleatorios, (2) Regresión Logística, (3) Bayes Ingenuo Gaussiano y (4) Máquina de Vectores de Soporte, realiza lo siguiente:\n",
        "\n",
        "Crea el modelo de aprendizaje con los hiperparámetros por omisión.\n",
        "\n",
        "Entrena el modelo utilizando el conjunto de entrenamiento.\n",
        "\n"
      ],
      "metadata": {
        "id": "GPyqn8H1ml70"
      }
    },
    {
      "cell_type": "code",
      "source": [
        "from sklearn.ensemble import RandomForestClassifier\n",
        "from sklearn.linear_model import LogisticRegression\n",
        "from sklearn.naive_bayes import GaussianNB\n",
        "from sklearn.svm import SVC\n",
        "from sklearn.metrics import accuracy_score\n",
        "\n",
        "\n",
        "# Modelo Random Forest\n",
        "rf_model = RandomForestClassifier()\n",
        "rf_model.fit(X_train, y_train)\n",
        "y_pred_rf = rf_model.predict(X_test)\n",
        "accuracy_rf = accuracy_score(y_test, y_pred_rf)\n",
        "\n",
        "# Modelo Regresión Logística\n",
        "lr_model = LogisticRegression()\n",
        "lr_model.fit(X_train, y_train)\n",
        "y_pred_lr = lr_model.predict(X_test)\n",
        "accuracy_lr = accuracy_score(y_test, y_pred_lr)\n",
        "\n",
        "# Modelo Naive Bayes\n",
        "nb_model = GaussianNB()\n",
        "nb_model.fit(X_train, y_train)\n",
        "y_pred_nb = nb_model.predict(X_test)\n",
        "accuracy_nb = accuracy_score(y_test, y_pred_nb)\n",
        "\n",
        "# Modelo SVM\n",
        "svm_model = SVC(probability=True)\n",
        "svm_model.fit(X_train, y_train)\n",
        "y_pred_svm = svm_model.predict(X_test)\n",
        "accuracy_svm = accuracy_score(y_test, y_pred_svm)\n",
        "\n",
        "# Seleccionar el mejor modelo basado en la mayor precisión\n",
        "accuracies = {\n",
        "    \"Random Forest\": accuracy_rf,\n",
        "    \"Regresión Logística\": accuracy_lr,\n",
        "    \"Naive Bayes\": accuracy_nb,\n",
        "    \"SVM\": accuracy_svm\n",
        "}\n",
        "\n",
        "print(accuracies)\n",
        "best_model_name = max(accuracies, key=accuracies.get)\n",
        "print(f\"El mejor modelo es: {best_model_name} con una precisión de {accuracies[best_model_name]:.4f}\")\n"
      ],
      "metadata": {
        "id": "6G91K-tEmr-q",
        "colab": {
          "base_uri": "https://localhost:8080/"
        },
        "outputId": "6ee3063e-54fc-4e6e-a968-25e289a5fd53"
      },
      "execution_count": 9,
      "outputs": [
        {
          "output_type": "stream",
          "name": "stdout",
          "text": [
            "{'Random Forest': 0.8673469387755102, 'Regresión Logística': 0.8673469387755102, 'Naive Bayes': 0.7857142857142857, 'SVM': 0.8741496598639455}\n",
            "El mejor modelo es: SVM con una precisión de 0.8741\n"
          ]
        }
      ]
    },
    {
      "cell_type": "markdown",
      "source": [
        "5. Determinar cuál consideras es el mejor modelo, justificando tu respuesta con base en los resultados previos obtenidos.\n",
        "\n",
        "Evalúa el modelo con las predicciones del conjunto de prueba, su matriz de confusión y las métricas de desempeño (accuracy, precision, recall, f1-score).\n",
        "\n",
        "Configura el mejor modelo seleccionando los valores para 2 o más de sus hiperparámetros. Utiliza GridSearchCV o RandomizedSearchCV.\n",
        "\n",
        "Determina si el mejor modelo configurado es mejor que el modelo aprendido con hiperparámetros por omisión.\n",
        "\n",
        "--------\n",
        "**A) El mejor modelo es SVM al contar con la mayor precisión (0.8741) durante la evaluación de los datos, además de ser una muy buena opción cuando se manejan datos escalados y muchas variables (en nuestro caso 33)**\n",
        "\n",
        "**B)Con el ajuste de hiperparámetros podemos mejorar su rendimiento, y más adelante podemos confirmar si es el mejor modelo al calcular su AUC en la curva ROC**"
      ],
      "metadata": {
        "id": "d8OUb3PDmni7"
      }
    },
    {
      "cell_type": "markdown",
      "source": [
        "------\n",
        "**Optimización de parámetros para todos los modelos solicitado en la rúbica de evaluación**\n"
      ],
      "metadata": {
        "id": "lWrg00OmPA2F"
      }
    },
    {
      "cell_type": "code",
      "execution_count": null,
      "metadata": {
        "id": "MR_vHMVCfkts",
        "colab": {
          "base_uri": "https://localhost:8080/"
        },
        "outputId": "7cad7913-f371-4351-aae2-912bac482a38"
      },
      "outputs": [
        {
          "output_type": "stream",
          "name": "stdout",
          "text": [
            "Mejores parámetros para Random Forest:\n",
            "{'max_depth': 50, 'min_samples_split': 10, 'n_estimators': 50}\n",
            "Mejores parámetros para Regresión Logística:\n",
            "{'C': 0.1, 'solver': 'lbfgs'}\n",
            "Mejores parámetros para Naive Bayes:\n",
            "{'var_smoothing': 1.0}\n"
          ]
        }
      ],
      "source": [
        "from sklearn.model_selection import RandomizedSearchCV\n",
        "from sklearn.ensemble import RandomForestClassifier\n",
        "\n",
        "# Random Forest\n",
        "param_dist_rf = {\n",
        "    'n_estimators': [50, 100, 200, 300],\n",
        "    'max_depth': [None, 10, 20, 30],\n",
        "    'min_samples_split': [2, 5, 10]\n",
        "}\n",
        "random_search_rf = RandomizedSearchCV(RandomForestClassifier(), param_dist_rf, n_iter=10, cv=3, scoring='accuracy', random_state=42)\n",
        "random_search_rf.fit(X_train, y_train)\n",
        "print(\"Mejores parámetros para Random Forest:\")\n",
        "print(random_search_rf.best_params_)\n",
        "\n",
        "# Regresión Logística\n",
        "param_dist_lr = {\n",
        "    'C': [0.01, 0.1, 1, 10],\n",
        "    'solver': ['liblinear', 'lbfgs']\n",
        "}\n",
        "random_search_lr = RandomizedSearchCV(LogisticRegression(), param_dist_lr, n_iter=10, cv=3, scoring='accuracy', random_state=42)\n",
        "random_search_lr.fit(X_train, y_train)\n",
        "print(\"Mejores parámetros para Regresión Logística:\")\n",
        "print(random_search_lr.best_params_)\n",
        "\n",
        "# Naive Bayes\n",
        "param_dist_nb = {\n",
        "    'var_smoothing': np.logspace(-9, 0, 10)\n",
        "}\n",
        "random_search_nb = RandomizedSearchCV(GaussianNB(), param_dist_nb, n_iter=10, cv=3, scoring='accuracy', random_state=42)\n",
        "random_search_nb.fit(X_train, y_train)\n",
        "print(\"Mejores parámetros para Naive Bayes:\")\n",
        "print(random_search_nb.best_params_)\n",
        "\n",
        "# SVM\n",
        "param_dist_svm = {\n",
        "    'C': [0.1, 1, 10, 100],\n",
        "    'kernel': ['linear', 'rbf'],\n",
        "    'gamma': ['scale', 'auto', 0.01, 0.1]\n",
        "}\n",
        "random_search_svm = RandomizedSearchCV(SVC(probability=True), param_dist_svm, n_iter=10, cv=3, scoring='accuracy', random_state=42)\n",
        "random_search_svm.fit(X_train, y_train)\n",
        "print(\"Mejores parámetros para SVM:\")\n",
        "print(random_search_svm.best_params_)"
      ]
    },
    {
      "cell_type": "code",
      "source": [],
      "metadata": {
        "id": "3aTQhNxNPSJ3"
      },
      "execution_count": null,
      "outputs": []
    }
  ]
}