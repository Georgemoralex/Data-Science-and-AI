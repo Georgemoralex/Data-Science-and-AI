{
  "nbformat": 4,
  "nbformat_minor": 0,
  "metadata": {
    "colab": {
      "provenance": [],
      "authorship_tag": "ABX9TyNl+yJQpdcGiXpKsbfiK0lo",
      "include_colab_link": true
    },
    "kernelspec": {
      "name": "python3",
      "display_name": "Python 3"
    },
    "language_info": {
      "name": "python"
    }
  },
  "cells": [
    {
      "cell_type": "markdown",
      "metadata": {
        "id": "view-in-github",
        "colab_type": "text"
      },
      "source": [
        "<a href=\"https://colab.research.google.com/github/Georgemoralex/Data-Science-and-AI/blob/main/Jorge_Morales_DSA01_Reto_%7C_Mi_Plan_de_aplicaci%C3%B3n_Fundamentos_de_Python.ipynb\" target=\"_parent\"><img src=\"https://colab.research.google.com/assets/colab-badge.svg\" alt=\"Open In Colab\"/></a>"
      ]
    },
    {
      "cell_type": "code",
      "execution_count": null,
      "metadata": {
        "colab": {
          "base_uri": "https://localhost:8080/"
        },
        "id": "Ul1WaNryy2Iw",
        "outputId": "75b3eb07-722e-45c1-988f-4023c0a045d1"
      },
      "outputs": [
        {
          "output_type": "stream",
          "name": "stdout",
          "text": [
            "La edad promedio de los empleados es: 39.6 años\n",
            "Hay 2704 hombres en la muestra\n",
            "Hay 3884 mujeres en la muestra\n",
            "Hay más mujeres que hombres en la muestra\n"
          ]
        }
      ],
      "source": [
        "file_handler = open('Employees.csv')\n",
        "\n",
        "next(file_handler)\n",
        "\n",
        "totalAge = 0\n",
        "countAge = 0\n",
        "maleCount = 0\n",
        "femaleCount = 0\n",
        "\n",
        "for line in file_handler:\n",
        "\n",
        "    columns = line.strip().split(',')\n",
        "    ageStr = columns[2].strip()\n",
        "    gender = columns[1].strip()\n",
        "    employeeId = columns[0]\n",
        "\n",
        "    if ageStr.isdigit(): # verificar que la edad no se encuentre vacía, las edades vacías serán excluidas de este estudio\n",
        "        age = int(ageStr) # convertir la edad a variable tipo entero\n",
        "        totalAge += age\n",
        "        countAge += 1\n",
        "\n",
        "        if gender.strip() == 'M':\n",
        "            maleCount += 1\n",
        "        elif gender.strip() == 'F':\n",
        "            femaleCount += 1\n",
        "\n",
        "        # se incluye el número de empleado en la impresión para mejor visibilidad y traceabilidad de los datos de Edad y Género\n",
        "        print(f'EmpId: {employeeId}, Edad: {age}, Género: {gender}')\n",
        "\n",
        "averageAge = totalAge / countAge\n",
        "\n",
        "print(f'La edad promedio de los empleados es: {averageAge:.1f} años')\n",
        "print(f'Hay {maleCount} hombres en la muestra')\n",
        "print(f'Hay {femaleCount} mujeres en la muestra')\n",
        "\n",
        "#Se compara la cantidad de hombres vs mujeres para determinar cual es mayor\n",
        "if maleCount > femaleCount:\n",
        "    print('Hay más hombres que mujeres en la muestra')\n",
        "elif femaleCount > maleCount:\n",
        "    print('Hay más mujeres que hombres en la muestra')\n",
        "else:\n",
        "    print('La cantidad de hombres y mujeres en la muestra es igual')\n",
        "\n",
        "file_handler.close()"
      ]
    }
  ]
}